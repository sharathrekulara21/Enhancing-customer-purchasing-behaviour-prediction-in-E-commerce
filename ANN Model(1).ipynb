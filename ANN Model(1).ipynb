{
 "cells": [
  {
   "cell_type": "markdown",
   "metadata": {},
   "source": [
    "## Modeling"
   ]
  },
  {
   "cell_type": "code",
   "execution_count": 2,
   "metadata": {},
   "outputs": [],
   "source": [
    "import numpy as np\n",
    "import pandas as pd\n",
    "import matplotlib.pyplot as plt\n",
    "import seaborn as sns\n",
    "import gc\n",
    "pd.options.mode.chained_assignment = None\n",
    "\n",
    "root = './Datasets/'\n",
    "from sklearn.preprocessing import MinMaxScaler\n",
    "from sklearn.model_selection import train_test_split, GridSearchCV, cross_val_score\n",
    "from sklearn.metrics import confusion_matrix, accuracy_score, classification_report\n",
    "from sklearn.metrics import roc_auc_score, roc_curve, precision_score, recall_score, f1_score\n",
    "from imblearn.over_sampling import SMOTE"
   ]
  },
  {
   "cell_type": "code",
   "execution_count": 3,
   "metadata": {},
   "outputs": [
    {
     "data": {
      "text/html": [
       "<div>\n",
       "<style scoped>\n",
       "    .dataframe tbody tr th:only-of-type {\n",
       "        vertical-align: middle;\n",
       "    }\n",
       "\n",
       "    .dataframe tbody tr th {\n",
       "        vertical-align: top;\n",
       "    }\n",
       "\n",
       "    .dataframe thead th {\n",
       "        text-align: right;\n",
       "    }\n",
       "</style>\n",
       "<table border=\"1\" class=\"dataframe\">\n",
       "  <thead>\n",
       "    <tr style=\"text-align: right;\">\n",
       "      <th></th>\n",
       "      <th>user_id</th>\n",
       "      <th>product_id</th>\n",
       "      <th>total_product_orders_by_user</th>\n",
       "      <th>total_product_reorders_by_user</th>\n",
       "      <th>user_product_reorder_percentage</th>\n",
       "      <th>avg_add_to_cart_by_user</th>\n",
       "      <th>avg_days_since_last_bought</th>\n",
       "      <th>last_ordered_in</th>\n",
       "      <th>is_reorder_3_x</th>\n",
       "      <th>is_reorder_2_x</th>\n",
       "      <th>...</th>\n",
       "      <th>reorder_proportion_by_user</th>\n",
       "      <th>department_unique_users_y</th>\n",
       "      <th>average_order_size</th>\n",
       "      <th>reorder_in_order</th>\n",
       "      <th>orders_3</th>\n",
       "      <th>orders_2</th>\n",
       "      <th>orders_1</th>\n",
       "      <th>reorder_3</th>\n",
       "      <th>reorder_2</th>\n",
       "      <th>reorder_1</th>\n",
       "    </tr>\n",
       "  </thead>\n",
       "  <tbody>\n",
       "    <tr>\n",
       "      <th>0</th>\n",
       "      <td>1</td>\n",
       "      <td>196</td>\n",
       "      <td>10.0</td>\n",
       "      <td>9.0</td>\n",
       "      <td>0.900000</td>\n",
       "      <td>1.400000</td>\n",
       "      <td>17.600000</td>\n",
       "      <td>10.0</td>\n",
       "      <td>1.0</td>\n",
       "      <td>1.0</td>\n",
       "      <td>...</td>\n",
       "      <td>0.694915</td>\n",
       "      <td>1</td>\n",
       "      <td>5.9</td>\n",
       "      <td>0.705833</td>\n",
       "      <td>6.0</td>\n",
       "      <td>6.0</td>\n",
       "      <td>9.0</td>\n",
       "      <td>0.666667</td>\n",
       "      <td>1.0</td>\n",
       "      <td>0.666667</td>\n",
       "    </tr>\n",
       "    <tr>\n",
       "      <th>1</th>\n",
       "      <td>1</td>\n",
       "      <td>10258</td>\n",
       "      <td>9.0</td>\n",
       "      <td>8.0</td>\n",
       "      <td>0.888889</td>\n",
       "      <td>3.333333</td>\n",
       "      <td>19.555555</td>\n",
       "      <td>10.0</td>\n",
       "      <td>1.0</td>\n",
       "      <td>1.0</td>\n",
       "      <td>...</td>\n",
       "      <td>0.694915</td>\n",
       "      <td>1</td>\n",
       "      <td>5.9</td>\n",
       "      <td>0.705833</td>\n",
       "      <td>6.0</td>\n",
       "      <td>6.0</td>\n",
       "      <td>9.0</td>\n",
       "      <td>0.666667</td>\n",
       "      <td>1.0</td>\n",
       "      <td>0.666667</td>\n",
       "    </tr>\n",
       "    <tr>\n",
       "      <th>2</th>\n",
       "      <td>1</td>\n",
       "      <td>10326</td>\n",
       "      <td>1.0</td>\n",
       "      <td>0.0</td>\n",
       "      <td>0.000000</td>\n",
       "      <td>5.000000</td>\n",
       "      <td>28.000000</td>\n",
       "      <td>5.0</td>\n",
       "      <td>0.0</td>\n",
       "      <td>0.0</td>\n",
       "      <td>...</td>\n",
       "      <td>0.694915</td>\n",
       "      <td>1</td>\n",
       "      <td>5.9</td>\n",
       "      <td>0.705833</td>\n",
       "      <td>6.0</td>\n",
       "      <td>6.0</td>\n",
       "      <td>9.0</td>\n",
       "      <td>0.666667</td>\n",
       "      <td>1.0</td>\n",
       "      <td>0.666667</td>\n",
       "    </tr>\n",
       "    <tr>\n",
       "      <th>3</th>\n",
       "      <td>1</td>\n",
       "      <td>12427</td>\n",
       "      <td>10.0</td>\n",
       "      <td>9.0</td>\n",
       "      <td>0.900000</td>\n",
       "      <td>3.300000</td>\n",
       "      <td>17.600000</td>\n",
       "      <td>10.0</td>\n",
       "      <td>1.0</td>\n",
       "      <td>1.0</td>\n",
       "      <td>...</td>\n",
       "      <td>0.694915</td>\n",
       "      <td>1</td>\n",
       "      <td>5.9</td>\n",
       "      <td>0.705833</td>\n",
       "      <td>6.0</td>\n",
       "      <td>6.0</td>\n",
       "      <td>9.0</td>\n",
       "      <td>0.666667</td>\n",
       "      <td>1.0</td>\n",
       "      <td>0.666667</td>\n",
       "    </tr>\n",
       "    <tr>\n",
       "      <th>4</th>\n",
       "      <td>1</td>\n",
       "      <td>13032</td>\n",
       "      <td>3.0</td>\n",
       "      <td>2.0</td>\n",
       "      <td>0.666667</td>\n",
       "      <td>6.333333</td>\n",
       "      <td>21.666666</td>\n",
       "      <td>10.0</td>\n",
       "      <td>1.0</td>\n",
       "      <td>0.0</td>\n",
       "      <td>...</td>\n",
       "      <td>0.694915</td>\n",
       "      <td>1</td>\n",
       "      <td>5.9</td>\n",
       "      <td>0.705833</td>\n",
       "      <td>6.0</td>\n",
       "      <td>6.0</td>\n",
       "      <td>9.0</td>\n",
       "      <td>0.666667</td>\n",
       "      <td>1.0</td>\n",
       "      <td>0.666667</td>\n",
       "    </tr>\n",
       "  </tbody>\n",
       "</table>\n",
       "<p>5 rows × 73 columns</p>\n",
       "</div>"
      ],
      "text/plain": [
       "   user_id  product_id  total_product_orders_by_user  \\\n",
       "0        1         196                          10.0   \n",
       "1        1       10258                           9.0   \n",
       "2        1       10326                           1.0   \n",
       "3        1       12427                          10.0   \n",
       "4        1       13032                           3.0   \n",
       "\n",
       "   total_product_reorders_by_user  user_product_reorder_percentage  \\\n",
       "0                             9.0                         0.900000   \n",
       "1                             8.0                         0.888889   \n",
       "2                             0.0                         0.000000   \n",
       "3                             9.0                         0.900000   \n",
       "4                             2.0                         0.666667   \n",
       "\n",
       "   avg_add_to_cart_by_user  avg_days_since_last_bought  last_ordered_in  \\\n",
       "0                 1.400000                   17.600000             10.0   \n",
       "1                 3.333333                   19.555555             10.0   \n",
       "2                 5.000000                   28.000000              5.0   \n",
       "3                 3.300000                   17.600000             10.0   \n",
       "4                 6.333333                   21.666666             10.0   \n",
       "\n",
       "   is_reorder_3_x  is_reorder_2_x  ...  reorder_proportion_by_user  \\\n",
       "0             1.0             1.0  ...                    0.694915   \n",
       "1             1.0             1.0  ...                    0.694915   \n",
       "2             0.0             0.0  ...                    0.694915   \n",
       "3             1.0             1.0  ...                    0.694915   \n",
       "4             1.0             0.0  ...                    0.694915   \n",
       "\n",
       "   department_unique_users_y  average_order_size  reorder_in_order  orders_3  \\\n",
       "0                          1                 5.9          0.705833       6.0   \n",
       "1                          1                 5.9          0.705833       6.0   \n",
       "2                          1                 5.9          0.705833       6.0   \n",
       "3                          1                 5.9          0.705833       6.0   \n",
       "4                          1                 5.9          0.705833       6.0   \n",
       "\n",
       "   orders_2  orders_1  reorder_3  reorder_2  reorder_1  \n",
       "0       6.0       9.0   0.666667        1.0   0.666667  \n",
       "1       6.0       9.0   0.666667        1.0   0.666667  \n",
       "2       6.0       9.0   0.666667        1.0   0.666667  \n",
       "3       6.0       9.0   0.666667        1.0   0.666667  \n",
       "4       6.0       9.0   0.666667        1.0   0.666667  \n",
       "\n",
       "[5 rows x 73 columns]"
      ]
     },
     "execution_count": 3,
     "metadata": {},
     "output_type": "execute_result"
    }
   ],
   "source": [
    "df = pd.read_pickle(root + 'Finaldata.pkl')\n",
    "df.head()"
   ]
  },
  {
   "cell_type": "code",
   "execution_count": 4,
   "metadata": {},
   "outputs": [],
   "source": [
    "def reduce_memory(df):\n",
    "    \n",
    "    \"\"\"\n",
    "    This function reduce the dataframe memory usage by converting it's type for easier handling.\n",
    "    \n",
    "    Parameters: Dataframe\n",
    "    Return: Dataframe\n",
    "    \"\"\"\n",
    "    \n",
    "    start_mem_usg = df.memory_usage().sum() / 1024**2 \n",
    "    print(\"Memory usage of properties dataframe is :\",start_mem_usg,\" MB\")\n",
    "    \n",
    "    for col in df.columns:\n",
    "        if df[col].dtypes in [\"int64\", \"int32\", \"int16\"]:\n",
    "            \n",
    "            cmin = df[col].min()\n",
    "            cmax = df[col].max()\n",
    "            \n",
    "            if cmin > np.iinfo(np.int8).min and cmax < np.iinfo(np.int8).max:\n",
    "                df[col] = df[col].astype(np.int8)\n",
    "            \n",
    "            elif cmin > np.iinfo(np.int16).min and cmax < np.iinfo(np.int16).max:\n",
    "                df[col] = df[col].astype(np.int16)\n",
    "            \n",
    "            elif cmin > np.iinfo(np.int32).min and cmax < np.iinfo(np.int32).max:\n",
    "                df[col] = df[col].astype(np.int32)\n",
    "        \n",
    "        if df[col].dtypes in [\"float64\", \"float32\"]:\n",
    "            \n",
    "            cmin = df[col].min()\n",
    "            cmax = df[col].max()\n",
    "            \n",
    "            if cmin > np.finfo(np.float16).min and cmax < np.finfo(np.float16).max:\n",
    "                df[col] = df[col].astype(np.float16)\n",
    "            \n",
    "            elif cmin > np.finfo(np.float32).min and cmax < np.finfo(np.float32).max:\n",
    "                df[col] = df[col].astype(np.float32)\n",
    "    \n",
    "    print(\"\")\n",
    "    print(\"___MEMORY USAGE AFTER COMPLETION:___\")\n",
    "    mem_usg = df.memory_usage().sum() / 1024**2 \n",
    "    print(\"Memory usage is: \",mem_usg,\" MB\")\n",
    "    print(\"This is \",100*mem_usg/start_mem_usg,\"% of the initial size\")\n",
    "    \n",
    "    return df"
   ]
  },
  {
   "cell_type": "code",
   "execution_count": 5,
   "metadata": {},
   "outputs": [
    {
     "name": "stdout",
     "output_type": "stream",
     "text": [
      "Memory usage of properties dataframe is : 4542.121519088745  MB\n",
      "\n",
      "___MEMORY USAGE AFTER COMPLETION:___\n",
      "Memory usage is:  1244.6383724212646  MB\n",
      "This is  27.402137243368337 % of the initial size\n"
     ]
    }
   ],
   "source": [
    "df = reduce_memory(df)"
   ]
  },
  {
   "cell_type": "code",
   "execution_count": 6,
   "metadata": {},
   "outputs": [],
   "source": [
    "df['order_diff'] = df.order_number - df.last_ordered_in\n",
    "df.drop(['user_id', 'product_id'], axis = 1, inplace = True)"
   ]
  },
  {
   "cell_type": "code",
   "execution_count": 7,
   "metadata": {},
   "outputs": [
    {
     "data": {
      "text/html": [
       "<div>\n",
       "<style scoped>\n",
       "    .dataframe tbody tr th:only-of-type {\n",
       "        vertical-align: middle;\n",
       "    }\n",
       "\n",
       "    .dataframe tbody tr th {\n",
       "        vertical-align: top;\n",
       "    }\n",
       "\n",
       "    .dataframe thead th {\n",
       "        text-align: right;\n",
       "    }\n",
       "</style>\n",
       "<table border=\"1\" class=\"dataframe\">\n",
       "  <thead>\n",
       "    <tr style=\"text-align: right;\">\n",
       "      <th></th>\n",
       "      <th>total_product_orders_by_user</th>\n",
       "      <th>total_product_reorders_by_user</th>\n",
       "      <th>user_product_reorder_percentage</th>\n",
       "      <th>avg_add_to_cart_by_user</th>\n",
       "      <th>avg_days_since_last_bought</th>\n",
       "      <th>last_ordered_in</th>\n",
       "      <th>is_reorder_3_x</th>\n",
       "      <th>is_reorder_2_x</th>\n",
       "      <th>is_reorder_1_x</th>\n",
       "      <th>is_reorder_3_y</th>\n",
       "      <th>...</th>\n",
       "      <th>department_unique_users_y</th>\n",
       "      <th>average_order_size</th>\n",
       "      <th>reorder_in_order</th>\n",
       "      <th>orders_3</th>\n",
       "      <th>orders_2</th>\n",
       "      <th>orders_1</th>\n",
       "      <th>reorder_3</th>\n",
       "      <th>reorder_2</th>\n",
       "      <th>reorder_1</th>\n",
       "      <th>order_diff</th>\n",
       "    </tr>\n",
       "  </thead>\n",
       "  <tbody>\n",
       "    <tr>\n",
       "      <th>0</th>\n",
       "      <td>10.0</td>\n",
       "      <td>9.0</td>\n",
       "      <td>0.899902</td>\n",
       "      <td>1.400391</td>\n",
       "      <td>17.593750</td>\n",
       "      <td>10.0</td>\n",
       "      <td>1.0</td>\n",
       "      <td>1.0</td>\n",
       "      <td>1.0</td>\n",
       "      <td>1.0</td>\n",
       "      <td>...</td>\n",
       "      <td>1</td>\n",
       "      <td>5.898438</td>\n",
       "      <td>0.706055</td>\n",
       "      <td>6.0</td>\n",
       "      <td>6.0</td>\n",
       "      <td>9.0</td>\n",
       "      <td>0.666504</td>\n",
       "      <td>1.0</td>\n",
       "      <td>0.666504</td>\n",
       "      <td>1.0</td>\n",
       "    </tr>\n",
       "    <tr>\n",
       "      <th>1</th>\n",
       "      <td>9.0</td>\n",
       "      <td>8.0</td>\n",
       "      <td>0.888672</td>\n",
       "      <td>3.333984</td>\n",
       "      <td>19.562500</td>\n",
       "      <td>10.0</td>\n",
       "      <td>1.0</td>\n",
       "      <td>1.0</td>\n",
       "      <td>1.0</td>\n",
       "      <td>1.0</td>\n",
       "      <td>...</td>\n",
       "      <td>1</td>\n",
       "      <td>5.898438</td>\n",
       "      <td>0.706055</td>\n",
       "      <td>6.0</td>\n",
       "      <td>6.0</td>\n",
       "      <td>9.0</td>\n",
       "      <td>0.666504</td>\n",
       "      <td>1.0</td>\n",
       "      <td>0.666504</td>\n",
       "      <td>1.0</td>\n",
       "    </tr>\n",
       "    <tr>\n",
       "      <th>2</th>\n",
       "      <td>1.0</td>\n",
       "      <td>0.0</td>\n",
       "      <td>0.000000</td>\n",
       "      <td>5.000000</td>\n",
       "      <td>28.000000</td>\n",
       "      <td>5.0</td>\n",
       "      <td>0.0</td>\n",
       "      <td>0.0</td>\n",
       "      <td>0.0</td>\n",
       "      <td>0.0</td>\n",
       "      <td>...</td>\n",
       "      <td>1</td>\n",
       "      <td>5.898438</td>\n",
       "      <td>0.706055</td>\n",
       "      <td>6.0</td>\n",
       "      <td>6.0</td>\n",
       "      <td>9.0</td>\n",
       "      <td>0.666504</td>\n",
       "      <td>1.0</td>\n",
       "      <td>0.666504</td>\n",
       "      <td>6.0</td>\n",
       "    </tr>\n",
       "    <tr>\n",
       "      <th>3</th>\n",
       "      <td>10.0</td>\n",
       "      <td>9.0</td>\n",
       "      <td>0.899902</td>\n",
       "      <td>3.300781</td>\n",
       "      <td>17.593750</td>\n",
       "      <td>10.0</td>\n",
       "      <td>1.0</td>\n",
       "      <td>1.0</td>\n",
       "      <td>1.0</td>\n",
       "      <td>1.0</td>\n",
       "      <td>...</td>\n",
       "      <td>1</td>\n",
       "      <td>5.898438</td>\n",
       "      <td>0.706055</td>\n",
       "      <td>6.0</td>\n",
       "      <td>6.0</td>\n",
       "      <td>9.0</td>\n",
       "      <td>0.666504</td>\n",
       "      <td>1.0</td>\n",
       "      <td>0.666504</td>\n",
       "      <td>1.0</td>\n",
       "    </tr>\n",
       "    <tr>\n",
       "      <th>4</th>\n",
       "      <td>3.0</td>\n",
       "      <td>2.0</td>\n",
       "      <td>0.666504</td>\n",
       "      <td>6.332031</td>\n",
       "      <td>21.671875</td>\n",
       "      <td>10.0</td>\n",
       "      <td>1.0</td>\n",
       "      <td>0.0</td>\n",
       "      <td>0.0</td>\n",
       "      <td>1.0</td>\n",
       "      <td>...</td>\n",
       "      <td>1</td>\n",
       "      <td>5.898438</td>\n",
       "      <td>0.706055</td>\n",
       "      <td>6.0</td>\n",
       "      <td>6.0</td>\n",
       "      <td>9.0</td>\n",
       "      <td>0.666504</td>\n",
       "      <td>1.0</td>\n",
       "      <td>0.666504</td>\n",
       "      <td>1.0</td>\n",
       "    </tr>\n",
       "  </tbody>\n",
       "</table>\n",
       "<p>5 rows × 72 columns</p>\n",
       "</div>"
      ],
      "text/plain": [
       "   total_product_orders_by_user  total_product_reorders_by_user  \\\n",
       "0                          10.0                             9.0   \n",
       "1                           9.0                             8.0   \n",
       "2                           1.0                             0.0   \n",
       "3                          10.0                             9.0   \n",
       "4                           3.0                             2.0   \n",
       "\n",
       "   user_product_reorder_percentage  avg_add_to_cart_by_user  \\\n",
       "0                         0.899902                 1.400391   \n",
       "1                         0.888672                 3.333984   \n",
       "2                         0.000000                 5.000000   \n",
       "3                         0.899902                 3.300781   \n",
       "4                         0.666504                 6.332031   \n",
       "\n",
       "   avg_days_since_last_bought  last_ordered_in  is_reorder_3_x  \\\n",
       "0                   17.593750             10.0             1.0   \n",
       "1                   19.562500             10.0             1.0   \n",
       "2                   28.000000              5.0             0.0   \n",
       "3                   17.593750             10.0             1.0   \n",
       "4                   21.671875             10.0             1.0   \n",
       "\n",
       "   is_reorder_2_x  is_reorder_1_x  is_reorder_3_y  ...  \\\n",
       "0             1.0             1.0             1.0  ...   \n",
       "1             1.0             1.0             1.0  ...   \n",
       "2             0.0             0.0             0.0  ...   \n",
       "3             1.0             1.0             1.0  ...   \n",
       "4             0.0             0.0             1.0  ...   \n",
       "\n",
       "   department_unique_users_y  average_order_size  reorder_in_order  orders_3  \\\n",
       "0                          1            5.898438          0.706055       6.0   \n",
       "1                          1            5.898438          0.706055       6.0   \n",
       "2                          1            5.898438          0.706055       6.0   \n",
       "3                          1            5.898438          0.706055       6.0   \n",
       "4                          1            5.898438          0.706055       6.0   \n",
       "\n",
       "   orders_2  orders_1  reorder_3  reorder_2  reorder_1  order_diff  \n",
       "0       6.0       9.0   0.666504        1.0   0.666504         1.0  \n",
       "1       6.0       9.0   0.666504        1.0   0.666504         1.0  \n",
       "2       6.0       9.0   0.666504        1.0   0.666504         6.0  \n",
       "3       6.0       9.0   0.666504        1.0   0.666504         1.0  \n",
       "4       6.0       9.0   0.666504        1.0   0.666504         1.0  \n",
       "\n",
       "[5 rows x 72 columns]"
      ]
     },
     "execution_count": 7,
     "metadata": {},
     "output_type": "execute_result"
    }
   ],
   "source": [
    "df.head()"
   ]
  },
  {
   "cell_type": "code",
   "execution_count": 8,
   "metadata": {},
   "outputs": [
    {
     "name": "stdout",
     "output_type": "stream",
     "text": [
      "<class 'pandas.core.frame.DataFrame'>\n",
      "RangeIndex: 8474661 entries, 0 to 8474660\n",
      "Data columns (total 72 columns):\n",
      " #   Column                             Dtype  \n",
      "---  ------                             -----  \n",
      " 0   total_product_orders_by_user       float16\n",
      " 1   total_product_reorders_by_user     float16\n",
      " 2   user_product_reorder_percentage    float16\n",
      " 3   avg_add_to_cart_by_user            float16\n",
      " 4   avg_days_since_last_bought         float16\n",
      " 5   last_ordered_in                    float16\n",
      " 6   is_reorder_3_x                     float16\n",
      " 7   is_reorder_2_x                     float16\n",
      " 8   is_reorder_1_x                     float16\n",
      " 9   is_reorder_3_y                     float16\n",
      " 10  is_reorder_2_y                     float16\n",
      " 11  is_reorder_1_y                     float16\n",
      " 12  order_number                       float16\n",
      " 13  order_dow                          float16\n",
      " 14  order_hour_of_day                  float16\n",
      " 15  days_since_prior_order             float16\n",
      " 16  reordered                          float16\n",
      " 17  mean_add_to_cart_order             float16\n",
      " 18  total_orders                       int32  \n",
      " 19  total_reorders                     int32  \n",
      " 20  reorder_percentage                 float16\n",
      " 21  unique_users                       int32  \n",
      " 22  order_first_time_total_cnt         int32  \n",
      " 23  order_second_time_total_cnt        int32  \n",
      " 24  is_organic                         int8   \n",
      " 25  second_time_percent                float16\n",
      " 26  aisle_mean_add_to_cart_order       float16\n",
      " 27  aisle_std_add_to_cart_order        float16\n",
      " 28  aisle_total_orders                 int32  \n",
      " 29  aisle_total_reorders               int32  \n",
      " 30  aisle_reorder_percentage           float16\n",
      " 31  aisle_unique_users                 int32  \n",
      " 32  aisle_0                            int8   \n",
      " 33  aisle_1                            int8   \n",
      " 34  aisle_2                            int8   \n",
      " 35  aisle_3                            int8   \n",
      " 36  aisle_4                            int8   \n",
      " 37  aisle_5                            int8   \n",
      " 38  aisle_6                            int8   \n",
      " 39  aisle_7                            int8   \n",
      " 40  department_mean_add_to_cart_order  float16\n",
      " 41  department_std_add_to_cart_order   float16\n",
      " 42  department_total_orders            int32  \n",
      " 43  department_total_reorders          int32  \n",
      " 44  department_reorder_percentage      float16\n",
      " 45  department_unique_users_x          int32  \n",
      " 46  department_0                       int8   \n",
      " 47  department_1                       int8   \n",
      " 48  department_2                       int8   \n",
      " 49  department_3                       int8   \n",
      " 50  department_4                       int8   \n",
      " 51  avg_dow                            float16\n",
      " 52  std_dow                            float16\n",
      " 53  avg_doh                            float16\n",
      " 54  std_doh                            float16\n",
      " 55  avg_since_order                    float16\n",
      " 56  std_since_order                    float16\n",
      " 57  total_orders_by_user               int8   \n",
      " 58  total_products_by_user             int16  \n",
      " 59  total_unique_product_by_user       int16  \n",
      " 60  total_reorders_by_user             int16  \n",
      " 61  reorder_proportion_by_user         float16\n",
      " 62  department_unique_users_y          int8   \n",
      " 63  average_order_size                 float16\n",
      " 64  reorder_in_order                   float16\n",
      " 65  orders_3                           float16\n",
      " 66  orders_2                           float16\n",
      " 67  orders_1                           float16\n",
      " 68  reorder_3                          float16\n",
      " 69  reorder_2                          float16\n",
      " 70  reorder_1                          float16\n",
      " 71  order_diff                         float16\n",
      "dtypes: float16(42), int16(3), int32(11), int8(16)\n",
      "memory usage: 1.2 GB\n"
     ]
    }
   ],
   "source": [
    "df.info()"
   ]
  },
  {
   "cell_type": "code",
   "execution_count": 9,
   "metadata": {},
   "outputs": [
    {
     "data": {
      "text/plain": [
       "(8474661, 72)"
      ]
     },
     "execution_count": 9,
     "metadata": {},
     "output_type": "execute_result"
    }
   ],
   "source": [
    "df.shape"
   ]
  },
  {
   "cell_type": "code",
   "execution_count": 10,
   "metadata": {},
   "outputs": [],
   "source": [
    "label = 'reordered'\n",
    "x_cols = df.columns.drop('reordered')"
   ]
  },
  {
   "cell_type": "code",
   "execution_count": 11,
   "metadata": {},
   "outputs": [],
   "source": [
    "X = df[x_cols]\n",
    "y = df[label]"
   ]
  },
  {
   "cell_type": "code",
   "execution_count": 12,
   "metadata": {},
   "outputs": [
    {
     "data": {
      "text/html": [
       "<div>\n",
       "<style scoped>\n",
       "    .dataframe tbody tr th:only-of-type {\n",
       "        vertical-align: middle;\n",
       "    }\n",
       "\n",
       "    .dataframe tbody tr th {\n",
       "        vertical-align: top;\n",
       "    }\n",
       "\n",
       "    .dataframe thead th {\n",
       "        text-align: right;\n",
       "    }\n",
       "</style>\n",
       "<table border=\"1\" class=\"dataframe\">\n",
       "  <thead>\n",
       "    <tr style=\"text-align: right;\">\n",
       "      <th></th>\n",
       "      <th>total_product_orders_by_user</th>\n",
       "      <th>total_product_reorders_by_user</th>\n",
       "      <th>user_product_reorder_percentage</th>\n",
       "      <th>avg_add_to_cart_by_user</th>\n",
       "      <th>avg_days_since_last_bought</th>\n",
       "      <th>last_ordered_in</th>\n",
       "      <th>is_reorder_3_x</th>\n",
       "      <th>is_reorder_2_x</th>\n",
       "      <th>is_reorder_1_x</th>\n",
       "      <th>is_reorder_3_y</th>\n",
       "      <th>...</th>\n",
       "      <th>department_unique_users_y</th>\n",
       "      <th>average_order_size</th>\n",
       "      <th>reorder_in_order</th>\n",
       "      <th>orders_3</th>\n",
       "      <th>orders_2</th>\n",
       "      <th>orders_1</th>\n",
       "      <th>reorder_3</th>\n",
       "      <th>reorder_2</th>\n",
       "      <th>reorder_1</th>\n",
       "      <th>order_diff</th>\n",
       "    </tr>\n",
       "  </thead>\n",
       "  <tbody>\n",
       "    <tr>\n",
       "      <th>0</th>\n",
       "      <td>10.0</td>\n",
       "      <td>9.0</td>\n",
       "      <td>0.899902</td>\n",
       "      <td>1.400391</td>\n",
       "      <td>17.593750</td>\n",
       "      <td>10.0</td>\n",
       "      <td>1.0</td>\n",
       "      <td>1.0</td>\n",
       "      <td>1.0</td>\n",
       "      <td>1.0</td>\n",
       "      <td>...</td>\n",
       "      <td>1</td>\n",
       "      <td>5.898438</td>\n",
       "      <td>0.706055</td>\n",
       "      <td>6.0</td>\n",
       "      <td>6.0</td>\n",
       "      <td>9.0</td>\n",
       "      <td>0.666504</td>\n",
       "      <td>1.0</td>\n",
       "      <td>0.666504</td>\n",
       "      <td>1.0</td>\n",
       "    </tr>\n",
       "    <tr>\n",
       "      <th>1</th>\n",
       "      <td>9.0</td>\n",
       "      <td>8.0</td>\n",
       "      <td>0.888672</td>\n",
       "      <td>3.333984</td>\n",
       "      <td>19.562500</td>\n",
       "      <td>10.0</td>\n",
       "      <td>1.0</td>\n",
       "      <td>1.0</td>\n",
       "      <td>1.0</td>\n",
       "      <td>1.0</td>\n",
       "      <td>...</td>\n",
       "      <td>1</td>\n",
       "      <td>5.898438</td>\n",
       "      <td>0.706055</td>\n",
       "      <td>6.0</td>\n",
       "      <td>6.0</td>\n",
       "      <td>9.0</td>\n",
       "      <td>0.666504</td>\n",
       "      <td>1.0</td>\n",
       "      <td>0.666504</td>\n",
       "      <td>1.0</td>\n",
       "    </tr>\n",
       "    <tr>\n",
       "      <th>2</th>\n",
       "      <td>1.0</td>\n",
       "      <td>0.0</td>\n",
       "      <td>0.000000</td>\n",
       "      <td>5.000000</td>\n",
       "      <td>28.000000</td>\n",
       "      <td>5.0</td>\n",
       "      <td>0.0</td>\n",
       "      <td>0.0</td>\n",
       "      <td>0.0</td>\n",
       "      <td>0.0</td>\n",
       "      <td>...</td>\n",
       "      <td>1</td>\n",
       "      <td>5.898438</td>\n",
       "      <td>0.706055</td>\n",
       "      <td>6.0</td>\n",
       "      <td>6.0</td>\n",
       "      <td>9.0</td>\n",
       "      <td>0.666504</td>\n",
       "      <td>1.0</td>\n",
       "      <td>0.666504</td>\n",
       "      <td>6.0</td>\n",
       "    </tr>\n",
       "    <tr>\n",
       "      <th>3</th>\n",
       "      <td>10.0</td>\n",
       "      <td>9.0</td>\n",
       "      <td>0.899902</td>\n",
       "      <td>3.300781</td>\n",
       "      <td>17.593750</td>\n",
       "      <td>10.0</td>\n",
       "      <td>1.0</td>\n",
       "      <td>1.0</td>\n",
       "      <td>1.0</td>\n",
       "      <td>1.0</td>\n",
       "      <td>...</td>\n",
       "      <td>1</td>\n",
       "      <td>5.898438</td>\n",
       "      <td>0.706055</td>\n",
       "      <td>6.0</td>\n",
       "      <td>6.0</td>\n",
       "      <td>9.0</td>\n",
       "      <td>0.666504</td>\n",
       "      <td>1.0</td>\n",
       "      <td>0.666504</td>\n",
       "      <td>1.0</td>\n",
       "    </tr>\n",
       "    <tr>\n",
       "      <th>4</th>\n",
       "      <td>3.0</td>\n",
       "      <td>2.0</td>\n",
       "      <td>0.666504</td>\n",
       "      <td>6.332031</td>\n",
       "      <td>21.671875</td>\n",
       "      <td>10.0</td>\n",
       "      <td>1.0</td>\n",
       "      <td>0.0</td>\n",
       "      <td>0.0</td>\n",
       "      <td>1.0</td>\n",
       "      <td>...</td>\n",
       "      <td>1</td>\n",
       "      <td>5.898438</td>\n",
       "      <td>0.706055</td>\n",
       "      <td>6.0</td>\n",
       "      <td>6.0</td>\n",
       "      <td>9.0</td>\n",
       "      <td>0.666504</td>\n",
       "      <td>1.0</td>\n",
       "      <td>0.666504</td>\n",
       "      <td>1.0</td>\n",
       "    </tr>\n",
       "  </tbody>\n",
       "</table>\n",
       "<p>5 rows × 71 columns</p>\n",
       "</div>"
      ],
      "text/plain": [
       "   total_product_orders_by_user  total_product_reorders_by_user  \\\n",
       "0                          10.0                             9.0   \n",
       "1                           9.0                             8.0   \n",
       "2                           1.0                             0.0   \n",
       "3                          10.0                             9.0   \n",
       "4                           3.0                             2.0   \n",
       "\n",
       "   user_product_reorder_percentage  avg_add_to_cart_by_user  \\\n",
       "0                         0.899902                 1.400391   \n",
       "1                         0.888672                 3.333984   \n",
       "2                         0.000000                 5.000000   \n",
       "3                         0.899902                 3.300781   \n",
       "4                         0.666504                 6.332031   \n",
       "\n",
       "   avg_days_since_last_bought  last_ordered_in  is_reorder_3_x  \\\n",
       "0                   17.593750             10.0             1.0   \n",
       "1                   19.562500             10.0             1.0   \n",
       "2                   28.000000              5.0             0.0   \n",
       "3                   17.593750             10.0             1.0   \n",
       "4                   21.671875             10.0             1.0   \n",
       "\n",
       "   is_reorder_2_x  is_reorder_1_x  is_reorder_3_y  ...  \\\n",
       "0             1.0             1.0             1.0  ...   \n",
       "1             1.0             1.0             1.0  ...   \n",
       "2             0.0             0.0             0.0  ...   \n",
       "3             1.0             1.0             1.0  ...   \n",
       "4             0.0             0.0             1.0  ...   \n",
       "\n",
       "   department_unique_users_y  average_order_size  reorder_in_order  orders_3  \\\n",
       "0                          1            5.898438          0.706055       6.0   \n",
       "1                          1            5.898438          0.706055       6.0   \n",
       "2                          1            5.898438          0.706055       6.0   \n",
       "3                          1            5.898438          0.706055       6.0   \n",
       "4                          1            5.898438          0.706055       6.0   \n",
       "\n",
       "   orders_2  orders_1  reorder_3  reorder_2  reorder_1  order_diff  \n",
       "0       6.0       9.0   0.666504        1.0   0.666504         1.0  \n",
       "1       6.0       9.0   0.666504        1.0   0.666504         1.0  \n",
       "2       6.0       9.0   0.666504        1.0   0.666504         6.0  \n",
       "3       6.0       9.0   0.666504        1.0   0.666504         1.0  \n",
       "4       6.0       9.0   0.666504        1.0   0.666504         1.0  \n",
       "\n",
       "[5 rows x 71 columns]"
      ]
     },
     "execution_count": 12,
     "metadata": {},
     "output_type": "execute_result"
    }
   ],
   "source": [
    "X.head()"
   ]
  },
  {
   "cell_type": "code",
   "execution_count": 13,
   "metadata": {},
   "outputs": [
    {
     "data": {
      "text/plain": [
       "0    1.0\n",
       "1    1.0\n",
       "2    0.0\n",
       "3    0.0\n",
       "4    1.0\n",
       "Name: reordered, dtype: float16"
      ]
     },
     "execution_count": 13,
     "metadata": {},
     "output_type": "execute_result"
    }
   ],
   "source": [
    "y.head()"
   ]
  },
  {
   "cell_type": "code",
   "execution_count": 14,
   "metadata": {},
   "outputs": [],
   "source": [
    "# Split the data into training and test sets\n",
    "X_train, X_test, y_train, y_test = train_test_split(X, y, stratify=y, test_size=0.25, random_state=42)\n",
    "\n",
    "# Further split the training set into training and validation sets\n",
    "X_train_final, X_val, y_train_final, y_val = train_test_split(X_train, y_train, stratify=y_train, test_size=0.2, random_state=42)\n"
   ]
  },
  {
   "cell_type": "code",
   "execution_count": 15,
   "metadata": {},
   "outputs": [
    {
     "data": {
      "text/plain": [
       "reordered\n",
       "0.0    5734377\n",
       "1.0     621618\n",
       "Name: count, dtype: int64"
      ]
     },
     "execution_count": 15,
     "metadata": {},
     "output_type": "execute_result"
    }
   ],
   "source": [
    "y_train.value_counts()"
   ]
  },
  {
   "cell_type": "code",
   "execution_count": 16,
   "metadata": {},
   "outputs": [
    {
     "data": {
      "text/plain": [
       "10.0"
      ]
     },
     "execution_count": 16,
     "metadata": {},
     "output_type": "execute_result"
    }
   ],
   "source": [
    "np.ceil(y_train.value_counts()[0]/y_train.value_counts()[1])"
   ]
  },
  {
   "cell_type": "code",
   "execution_count": 17,
   "metadata": {},
   "outputs": [
    {
     "data": {
      "text/plain": [
       "reordered\n",
       "0.0    1911460\n",
       "1.0     207206\n",
       "Name: count, dtype: int64"
      ]
     },
     "execution_count": 17,
     "metadata": {},
     "output_type": "execute_result"
    }
   ],
   "source": [
    "y_test.value_counts()"
   ]
  },
  {
   "cell_type": "code",
   "execution_count": 18,
   "metadata": {},
   "outputs": [
    {
     "data": {
      "text/plain": [
       "0"
      ]
     },
     "execution_count": 18,
     "metadata": {},
     "output_type": "execute_result"
    }
   ],
   "source": [
    "# freeing memory\n",
    "del df, X, y\n",
    "gc.collect()"
   ]
  },
  {
   "cell_type": "code",
   "execution_count": 19,
   "metadata": {},
   "outputs": [],
   "source": [
    "import matplotlib.pyplot as plt\n",
    "\n",
    "# Example data for 25 epochs\n",
    "epochs = range(1, 26)\n",
    "training_accuracy = [\n",
    "    0.60, 0.63, 0.66, 0.69, 0.71, 0.73, 0.75, 0.77, 0.79, 0.80,\n",
    "    0.81, 0.82, 0.83, 0.84, 0.85, 0.86, 0.87, 0.871, 0.875, 0.877,\n",
    "    0.88, 0.881, 0.8812, 0.8813, 0.8814\n",
    "]\n",
    "validation_accuracy = [\n",
    "    0.55, 0.58, 0.61, 0.64, 0.67, 0.70, 0.73, 0.76, 0.78, 0.80,\n",
    "    0.82, 0.83, 0.85, 0.86, 0.87, 0.88, 0.89, 0.895, 0.898, 0.899,\n",
    "    0.90, 0.901, 0.9012, 0.90125, 0.9013\n",
    "]\n"
   ]
  },
  {
   "cell_type": "markdown",
   "metadata": {},
   "source": [
    "### Handling Class Imbalance"
   ]
  },
  {
   "cell_type": "code",
   "execution_count": 20,
   "metadata": {},
   "outputs": [],
   "source": [
    "from sklearn.preprocessing import MinMaxScaler\n",
    "from imblearn.over_sampling import SMOTE"
   ]
  },
  {
   "cell_type": "code",
   "execution_count": 21,
   "metadata": {},
   "outputs": [],
   "source": [
    "smote = SMOTE(random_state=42)\n",
    "X_train_resampled, y_train_resampled = smote.fit_resample(X_train_final, y_train_final)"
   ]
  },
  {
   "cell_type": "code",
   "execution_count": 22,
   "metadata": {},
   "outputs": [],
   "source": [
    "sc = MinMaxScaler()\n",
    "X_train_sc = sc.fit_transform(X_train_resampled)\n",
    "X_val_sc = sc.transform(X_val)\n",
    "X_test_sc = sc.transform(X_test)"
   ]
  },
  {
   "cell_type": "code",
   "execution_count": 23,
   "metadata": {},
   "outputs": [
    {
     "name": "stdout",
     "output_type": "stream",
     "text": [
      "Resampled training set shape: (9175004, 71)\n",
      "Validation set shape: (1271199, 71)\n",
      "Test set shape: (2118666, 71)\n"
     ]
    }
   ],
   "source": [
    "print(f\"Resampled training set shape: {X_train_sc.shape}\")\n",
    "print(f\"Validation set shape: {X_val_sc.shape}\")\n",
    "print(f\"Test set shape: {X_test_sc.shape}\")"
   ]
  },
  {
   "cell_type": "code",
   "execution_count": 24,
   "metadata": {},
   "outputs": [
    {
     "data": {
      "text/plain": [
       "(9175004, 71)"
      ]
     },
     "execution_count": 24,
     "metadata": {},
     "output_type": "execute_result"
    }
   ],
   "source": [
    "X_train_sc.shape"
   ]
  },
  {
   "cell_type": "code",
   "execution_count": 25,
   "metadata": {},
   "outputs": [
    {
     "data": {
      "text/plain": [
       "(9175004,)"
      ]
     },
     "execution_count": 25,
     "metadata": {},
     "output_type": "execute_result"
    }
   ],
   "source": [
    "y_train_resampled.shape"
   ]
  },
  {
   "cell_type": "code",
   "execution_count": 26,
   "metadata": {},
   "outputs": [
    {
     "data": {
      "text/plain": [
       "(2118666, 71)"
      ]
     },
     "execution_count": 26,
     "metadata": {},
     "output_type": "execute_result"
    }
   ],
   "source": [
    "X_test_sc.shape"
   ]
  },
  {
   "cell_type": "code",
   "execution_count": 34,
   "metadata": {},
   "outputs": [
    {
     "name": "stdout",
     "output_type": "stream",
     "text": [
      "Original dataset shape: Counter({0.0: 4587502, 1.0: 497294})\n",
      "Resampled dataset shape: Counter({0.0: 4587502, 1.0: 4587502})\n"
     ]
    }
   ],
   "source": [
    "from collections import Counter\n",
    "print(f'Original dataset shape: {Counter(y_train_final)}')\n",
    "print(f'Resampled dataset shape: {Counter(y_train_resampled)}')\n"
   ]
  },
  {
   "cell_type": "markdown",
   "metadata": {},
   "source": [
    "### Neural Network model"
   ]
  },
  {
   "cell_type": "code",
   "execution_count": 29,
   "metadata": {},
   "outputs": [],
   "source": [
    "import keras\n",
    "from keras.models import Sequential\n",
    "from keras.layers import Dense, Dropout\n",
    "from keras.regularizers import l2\n",
    "from keras.callbacks import History\n",
    "import tensorflow.keras.backend as K\n",
    "from keras.regularizers import l2"
   ]
  },
  {
   "cell_type": "code",
   "execution_count": 30,
   "metadata": {},
   "outputs": [],
   "source": [
    "def precision_m(y_true, y_pred):\n",
    "    true_positives = K.sum(K.round(K.clip(y_true * y_pred, 0, 1)))\n",
    "    predicted_positives = K.sum(K.round(K.clip(y_pred, 0, 1)))\n",
    "    precision = true_positives / (predicted_positives + K.epsilon())\n",
    "    return precision\n",
    "\n",
    "def recall_m(y_true, y_pred):\n",
    "    true_positives = K.sum(K.round(K.clip(y_true * y_pred, 0, 1)))\n",
    "    possible_positives = K.sum(K.round(K.clip(y_true, 0, 1)))\n",
    "    recall = true_positives / (possible_positives + K.epsilon())\n",
    "    return recall\n",
    "\n",
    "def f1_m(y_true, y_pred):\n",
    "    precision = precision_m(y_true, y_pred)\n",
    "    recall = recall_m(y_true, y_pred)\n",
    "    return 2*((precision*recall)/(precision+recall+K.epsilon()))"
   ]
  },
  {
   "cell_type": "code",
   "execution_count": 66,
   "metadata": {},
   "outputs": [
    {
     "name": "stdout",
     "output_type": "stream",
     "text": [
      "Epoch 1/25\n",
      "\u001b[1m19040/19040\u001b[0m \u001b[32m━━━━━━━━━━━━━━━━━━━━\u001b[0m\u001b[37m\u001b[0m \u001b[1m48s\u001b[0m 2ms/step - accuracy: 0.8272 - f1_m: 0.7699 - loss: 0.4384 - precision_m: 0.8489 - recall_m: 0.7090 - val_accuracy: 0.7880 - val_f1_m: 0.8813 - val_loss: 0.4308 - val_precision_m: 1.0000 - val_recall_m: 0.7880\n",
      "Epoch 2/25\n",
      "\u001b[1m19040/19040\u001b[0m \u001b[32m━━━━━━━━━━━━━━━━━━━━\u001b[0m\u001b[37m\u001b[0m \u001b[1m40s\u001b[0m 2ms/step - accuracy: 0.8500 - f1_m: 0.8022 - loss: 0.3843 - precision_m: 0.8769 - recall_m: 0.7417 - val_accuracy: 0.7993 - val_f1_m: 0.8884 - val_loss: 0.3961 - val_precision_m: 1.0000 - val_recall_m: 0.7993\n",
      "Epoch 3/25\n",
      "\u001b[1m19040/19040\u001b[0m \u001b[32m━━━━━━━━━━━━━━━━━━━━\u001b[0m\u001b[37m\u001b[0m \u001b[1m45s\u001b[0m 2ms/step - accuracy: 0.8542 - f1_m: 0.8071 - loss: 0.3778 - precision_m: 0.8855 - recall_m: 0.7438 - val_accuracy: 0.8473 - val_f1_m: 0.9173 - val_loss: 0.3273 - val_precision_m: 1.0000 - val_recall_m: 0.8473\n",
      "Epoch 4/25\n",
      "\u001b[1m19040/19040\u001b[0m \u001b[32m━━━━━━━━━━━━━━━━━━━━\u001b[0m\u001b[37m\u001b[0m \u001b[1m58s\u001b[0m 3ms/step - accuracy: 0.8581 - f1_m: 0.8123 - loss: 0.3741 - precision_m: 0.8908 - recall_m: 0.7490 - val_accuracy: 0.7806 - val_f1_m: 0.8766 - val_loss: 0.4374 - val_precision_m: 1.0000 - val_recall_m: 0.7806\n",
      "Epoch 5/25\n",
      "\u001b[1m19040/19040\u001b[0m \u001b[32m━━━━━━━━━━━━━━━━━━━━\u001b[0m\u001b[37m\u001b[0m \u001b[1m52s\u001b[0m 3ms/step - accuracy: 0.8604 - f1_m: 0.8156 - loss: 0.3730 - precision_m: 0.8933 - recall_m: 0.7529 - val_accuracy: 0.7926 - val_f1_m: 0.8842 - val_loss: 0.4136 - val_precision_m: 1.0000 - val_recall_m: 0.7926\n",
      "Epoch 6/25\n",
      "\u001b[1m19040/19040\u001b[0m \u001b[32m━━━━━━━━━━━━━━━━━━━━\u001b[0m\u001b[37m\u001b[0m \u001b[1m54s\u001b[0m 3ms/step - accuracy: 0.8622 - f1_m: 0.8178 - loss: 0.3722 - precision_m: 0.8957 - recall_m: 0.7550 - val_accuracy: 0.8555 - val_f1_m: 0.9221 - val_loss: 0.3270 - val_precision_m: 1.0000 - val_recall_m: 0.8555\n",
      "Epoch 7/25\n",
      "\u001b[1m19040/19040\u001b[0m \u001b[32m━━━━━━━━━━━━━━━━━━━━\u001b[0m\u001b[37m\u001b[0m \u001b[1m54s\u001b[0m 3ms/step - accuracy: 0.8635 - f1_m: 0.8195 - loss: 0.3720 - precision_m: 0.8974 - recall_m: 0.7567 - val_accuracy: 0.8537 - val_f1_m: 0.9210 - val_loss: 0.3283 - val_precision_m: 1.0000 - val_recall_m: 0.8537\n",
      "Epoch 8/25\n",
      "\u001b[1m19040/19040\u001b[0m \u001b[32m━━━━━━━━━━━━━━━━━━━━\u001b[0m\u001b[37m\u001b[0m \u001b[1m63s\u001b[0m 3ms/step - accuracy: 0.8650 - f1_m: 0.8217 - loss: 0.3708 - precision_m: 0.8988 - recall_m: 0.7593 - val_accuracy: 0.8293 - val_f1_m: 0.9066 - val_loss: 0.3705 - val_precision_m: 1.0000 - val_recall_m: 0.8293\n",
      "Epoch 9/25\n",
      "\u001b[1m19040/19040\u001b[0m \u001b[32m━━━━━━━━━━━━━━━━━━━━\u001b[0m\u001b[37m\u001b[0m \u001b[1m55s\u001b[0m 3ms/step - accuracy: 0.8661 - f1_m: 0.8234 - loss: 0.3704 - precision_m: 0.9000 - recall_m: 0.7615 - val_accuracy: 0.8401 - val_f1_m: 0.9130 - val_loss: 0.3541 - val_precision_m: 1.0000 - val_recall_m: 0.8401\n",
      "Epoch 10/25\n",
      "\u001b[1m19040/19040\u001b[0m \u001b[32m━━━━━━━━━━━━━━━━━━━━\u001b[0m\u001b[37m\u001b[0m \u001b[1m52s\u001b[0m 3ms/step - accuracy: 0.8675 - f1_m: 0.8253 - loss: 0.3697 - precision_m: 0.9017 - recall_m: 0.7634 - val_accuracy: 0.8402 - val_f1_m: 0.9131 - val_loss: 0.3407 - val_precision_m: 1.0000 - val_recall_m: 0.8402\n",
      "Epoch 11/25\n",
      "\u001b[1m19040/19040\u001b[0m \u001b[32m━━━━━━━━━━━━━━━━━━━━\u001b[0m\u001b[37m\u001b[0m \u001b[1m43s\u001b[0m 2ms/step - accuracy: 0.8689 - f1_m: 0.8271 - loss: 0.3696 - precision_m: 0.9030 - recall_m: 0.7655 - val_accuracy: 0.8336 - val_f1_m: 0.9092 - val_loss: 0.3750 - val_precision_m: 1.0000 - val_recall_m: 0.8336\n",
      "Epoch 12/25\n",
      "\u001b[1m19040/19040\u001b[0m \u001b[32m━━━━━━━━━━━━━━━━━━━━\u001b[0m\u001b[37m\u001b[0m \u001b[1m49s\u001b[0m 3ms/step - accuracy: 0.8696 - f1_m: 0.8282 - loss: 0.3693 - precision_m: 0.9035 - recall_m: 0.7670 - val_accuracy: 0.8376 - val_f1_m: 0.9115 - val_loss: 0.3573 - val_precision_m: 1.0000 - val_recall_m: 0.8376\n",
      "Epoch 13/25\n",
      "\u001b[1m19040/19040\u001b[0m \u001b[32m━━━━━━━━━━━━━━━━━━━━\u001b[0m\u001b[37m\u001b[0m \u001b[1m46s\u001b[0m 2ms/step - accuracy: 0.8706 - f1_m: 0.8295 - loss: 0.3689 - precision_m: 0.9046 - recall_m: 0.7684 - val_accuracy: 0.8614 - val_f1_m: 0.9255 - val_loss: 0.3320 - val_precision_m: 1.0000 - val_recall_m: 0.8614\n",
      "Epoch 14/25\n",
      "\u001b[1m19040/19040\u001b[0m \u001b[32m━━━━━━━━━━━━━━━━━━━━\u001b[0m\u001b[37m\u001b[0m \u001b[1m54s\u001b[0m 3ms/step - accuracy: 0.8721 - f1_m: 0.8316 - loss: 0.3684 - precision_m: 0.9059 - recall_m: 0.7711 - val_accuracy: 0.8799 - val_f1_m: 0.9361 - val_loss: 0.3107 - val_precision_m: 1.0000 - val_recall_m: 0.8799\n",
      "Epoch 15/25\n",
      "\u001b[1m19040/19040\u001b[0m \u001b[32m━━━━━━━━━━━━━━━━━━━━\u001b[0m\u001b[37m\u001b[0m \u001b[1m51s\u001b[0m 3ms/step - accuracy: 0.8735 - f1_m: 0.8336 - loss: 0.3679 - precision_m: 0.9076 - recall_m: 0.7733 - val_accuracy: 0.8003 - val_f1_m: 0.8890 - val_loss: 0.4369 - val_precision_m: 1.0000 - val_recall_m: 0.8003\n",
      "Epoch 16/25\n",
      "\u001b[1m19040/19040\u001b[0m \u001b[32m━━━━━━━━━━━━━━━━━━━━\u001b[0m\u001b[37m\u001b[0m \u001b[1m46s\u001b[0m 2ms/step - accuracy: 0.8745 - f1_m: 0.8350 - loss: 0.3679 - precision_m: 0.9089 - recall_m: 0.7746 - val_accuracy: 0.8906 - val_f1_m: 0.9421 - val_loss: 0.2966 - val_precision_m: 1.0000 - val_recall_m: 0.8906\n",
      "Epoch 17/25\n",
      "\u001b[1m19040/19040\u001b[0m \u001b[32m━━━━━━━━━━━━━━━━━━━━\u001b[0m\u001b[37m\u001b[0m \u001b[1m67s\u001b[0m 3ms/step - accuracy: 0.8759 - f1_m: 0.8367 - loss: 0.3674 - precision_m: 0.9104 - recall_m: 0.7766 - val_accuracy: 0.8363 - val_f1_m: 0.9108 - val_loss: 0.3668 - val_precision_m: 1.0000 - val_recall_m: 0.8363\n",
      "Epoch 18/25\n",
      "\u001b[1m19040/19040\u001b[0m \u001b[32m━━━━━━━━━━━━━━━━━━━━\u001b[0m\u001b[37m\u001b[0m \u001b[1m49s\u001b[0m 3ms/step - accuracy: 0.8770 - f1_m: 0.8385 - loss: 0.3671 - precision_m: 0.9113 - recall_m: 0.7789 - val_accuracy: 0.8372 - val_f1_m: 0.9113 - val_loss: 0.3820 - val_precision_m: 1.0000 - val_recall_m: 0.8372\n",
      "Epoch 19/25\n",
      "\u001b[1m19040/19040\u001b[0m \u001b[32m━━━━━━━━━━━━━━━━━━━━\u001b[0m\u001b[37m\u001b[0m \u001b[1m52s\u001b[0m 3ms/step - accuracy: 0.8780 - f1_m: 0.8398 - loss: 0.3665 - precision_m: 0.9120 - recall_m: 0.7807 - val_accuracy: 0.8054 - val_f1_m: 0.8921 - val_loss: 0.4185 - val_precision_m: 1.0000 - val_recall_m: 0.8054\n",
      "Epoch 20/25\n",
      "\u001b[1m19040/19040\u001b[0m \u001b[32m━━━━━━━━━━━━━━━━━━━━\u001b[0m\u001b[37m\u001b[0m \u001b[1m51s\u001b[0m 3ms/step - accuracy: 0.8785 - f1_m: 0.8405 - loss: 0.3670 - precision_m: 0.9124 - recall_m: 0.7815 - val_accuracy: 0.9071 - val_f1_m: 0.9512 - val_loss: 0.2789 - val_precision_m: 1.0000 - val_recall_m: 0.9071\n",
      "Epoch 21/25\n",
      "\u001b[1m19040/19040\u001b[0m \u001b[32m━━━━━━━━━━━━━━━━━━━━\u001b[0m\u001b[37m\u001b[0m \u001b[1m50s\u001b[0m 3ms/step - accuracy: 0.8791 - f1_m: 0.8414 - loss: 0.3668 - precision_m: 0.9128 - recall_m: 0.7829 - val_accuracy: 0.8294 - val_f1_m: 0.9066 - val_loss: 0.3893 - val_precision_m: 1.0000 - val_recall_m: 0.8294\n",
      "Epoch 22/25\n",
      "\u001b[1m19040/19040\u001b[0m \u001b[32m━━━━━━━━━━━━━━━━━━━━\u001b[0m\u001b[37m\u001b[0m \u001b[1m51s\u001b[0m 3ms/step - accuracy: 0.8795 - f1_m: 0.8420 - loss: 0.3669 - precision_m: 0.9133 - recall_m: 0.7834 - val_accuracy: 0.8051 - val_f1_m: 0.8919 - val_loss: 0.4251 - val_precision_m: 1.0000 - val_recall_m: 0.8051\n",
      "Epoch 23/25\n",
      "\u001b[1m19040/19040\u001b[0m \u001b[32m━━━━━━━━━━━━━━━━━━━━\u001b[0m\u001b[37m\u001b[0m \u001b[1m48s\u001b[0m 3ms/step - accuracy: 0.8805 - f1_m: 0.8432 - loss: 0.3664 - precision_m: 0.9141 - recall_m: 0.7848 - val_accuracy: 0.8852 - val_f1_m: 0.9390 - val_loss: 0.3036 - val_precision_m: 1.0000 - val_recall_m: 0.8852\n",
      "Epoch 24/25\n",
      "\u001b[1m19040/19040\u001b[0m \u001b[32m━━━━━━━━━━━━━━━━━━━━\u001b[0m\u001b[37m\u001b[0m \u001b[1m53s\u001b[0m 3ms/step - accuracy: 0.8810 - f1_m: 0.8439 - loss: 0.3663 - precision_m: 0.9147 - recall_m: 0.7856 - val_accuracy: 0.9326 - val_f1_m: 0.9651 - val_loss: 0.2466 - val_precision_m: 1.0000 - val_recall_m: 0.9326\n",
      "Epoch 25/25\n",
      "\u001b[1m19040/19040\u001b[0m \u001b[32m━━━━━━━━━━━━━━━━━━━━\u001b[0m\u001b[37m\u001b[0m \u001b[1m47s\u001b[0m 2ms/step - accuracy: 0.8814 - f1_m: 0.8446 - loss: 0.3659 - precision_m: 0.9149 - recall_m: 0.7867 - val_accuracy: 0.7895 - val_f1_m: 0.8823 - val_loss: 0.4785 - val_precision_m: 1.0000 - val_recall_m: 0.7895\n"
     ]
    },
    {
     "data": {
      "text/html": [
       "<pre style=\"white-space:pre;overflow-x:auto;line-height:normal;font-family:Menlo,'DejaVu Sans Mono',consolas,'Courier New',monospace\"><span style=\"font-weight: bold\">Model: \"sequential_8\"</span>\n",
       "</pre>\n"
      ],
      "text/plain": [
       "\u001b[1mModel: \"sequential_8\"\u001b[0m\n"
      ]
     },
     "metadata": {},
     "output_type": "display_data"
    },
    {
     "data": {
      "text/html": [
       "<pre style=\"white-space:pre;overflow-x:auto;line-height:normal;font-family:Menlo,'DejaVu Sans Mono',consolas,'Courier New',monospace\">┏━━━━━━━━━━━━━━━━━━━━━━━━━━━━━━━━━━━━━━┳━━━━━━━━━━━━━━━━━━━━━━━━━━━━━┳━━━━━━━━━━━━━━━━━┓\n",
       "┃<span style=\"font-weight: bold\"> Layer (type)                         </span>┃<span style=\"font-weight: bold\"> Output Shape                </span>┃<span style=\"font-weight: bold\">         Param # </span>┃\n",
       "┡━━━━━━━━━━━━━━━━━━━━━━━━━━━━━━━━━━━━━━╇━━━━━━━━━━━━━━━━━━━━━━━━━━━━━╇━━━━━━━━━━━━━━━━━┩\n",
       "│ dense_34 (<span style=\"color: #0087ff; text-decoration-color: #0087ff\">Dense</span>)                     │ (<span style=\"color: #00d7ff; text-decoration-color: #00d7ff\">None</span>, <span style=\"color: #00af00; text-decoration-color: #00af00\">32</span>)                  │           <span style=\"color: #00af00; text-decoration-color: #00af00\">2,304</span> │\n",
       "├──────────────────────────────────────┼─────────────────────────────┼─────────────────┤\n",
       "│ dense_35 (<span style=\"color: #0087ff; text-decoration-color: #0087ff\">Dense</span>)                     │ (<span style=\"color: #00d7ff; text-decoration-color: #00d7ff\">None</span>, <span style=\"color: #00af00; text-decoration-color: #00af00\">64</span>)                  │           <span style=\"color: #00af00; text-decoration-color: #00af00\">2,112</span> │\n",
       "├──────────────────────────────────────┼─────────────────────────────┼─────────────────┤\n",
       "│ dense_36 (<span style=\"color: #0087ff; text-decoration-color: #0087ff\">Dense</span>)                     │ (<span style=\"color: #00d7ff; text-decoration-color: #00d7ff\">None</span>, <span style=\"color: #00af00; text-decoration-color: #00af00\">32</span>)                  │           <span style=\"color: #00af00; text-decoration-color: #00af00\">2,080</span> │\n",
       "├──────────────────────────────────────┼─────────────────────────────┼─────────────────┤\n",
       "│ dense_37 (<span style=\"color: #0087ff; text-decoration-color: #0087ff\">Dense</span>)                     │ (<span style=\"color: #00d7ff; text-decoration-color: #00d7ff\">None</span>, <span style=\"color: #00af00; text-decoration-color: #00af00\">1</span>)                   │              <span style=\"color: #00af00; text-decoration-color: #00af00\">33</span> │\n",
       "└──────────────────────────────────────┴─────────────────────────────┴─────────────────┘\n",
       "</pre>\n"
      ],
      "text/plain": [
       "┏━━━━━━━━━━━━━━━━━━━━━━━━━━━━━━━━━━━━━━┳━━━━━━━━━━━━━━━━━━━━━━━━━━━━━┳━━━━━━━━━━━━━━━━━┓\n",
       "┃\u001b[1m \u001b[0m\u001b[1mLayer (type)                        \u001b[0m\u001b[1m \u001b[0m┃\u001b[1m \u001b[0m\u001b[1mOutput Shape               \u001b[0m\u001b[1m \u001b[0m┃\u001b[1m \u001b[0m\u001b[1m        Param #\u001b[0m\u001b[1m \u001b[0m┃\n",
       "┡━━━━━━━━━━━━━━━━━━━━━━━━━━━━━━━━━━━━━━╇━━━━━━━━━━━━━━━━━━━━━━━━━━━━━╇━━━━━━━━━━━━━━━━━┩\n",
       "│ dense_34 (\u001b[38;5;33mDense\u001b[0m)                     │ (\u001b[38;5;45mNone\u001b[0m, \u001b[38;5;34m32\u001b[0m)                  │           \u001b[38;5;34m2,304\u001b[0m │\n",
       "├──────────────────────────────────────┼─────────────────────────────┼─────────────────┤\n",
       "│ dense_35 (\u001b[38;5;33mDense\u001b[0m)                     │ (\u001b[38;5;45mNone\u001b[0m, \u001b[38;5;34m64\u001b[0m)                  │           \u001b[38;5;34m2,112\u001b[0m │\n",
       "├──────────────────────────────────────┼─────────────────────────────┼─────────────────┤\n",
       "│ dense_36 (\u001b[38;5;33mDense\u001b[0m)                     │ (\u001b[38;5;45mNone\u001b[0m, \u001b[38;5;34m32\u001b[0m)                  │           \u001b[38;5;34m2,080\u001b[0m │\n",
       "├──────────────────────────────────────┼─────────────────────────────┼─────────────────┤\n",
       "│ dense_37 (\u001b[38;5;33mDense\u001b[0m)                     │ (\u001b[38;5;45mNone\u001b[0m, \u001b[38;5;34m1\u001b[0m)                   │              \u001b[38;5;34m33\u001b[0m │\n",
       "└──────────────────────────────────────┴─────────────────────────────┴─────────────────┘\n"
      ]
     },
     "metadata": {},
     "output_type": "display_data"
    },
    {
     "data": {
      "text/html": [
       "<pre style=\"white-space:pre;overflow-x:auto;line-height:normal;font-family:Menlo,'DejaVu Sans Mono',consolas,'Courier New',monospace\"><span style=\"font-weight: bold\"> Total params: </span><span style=\"color: #00af00; text-decoration-color: #00af00\">19,589</span> (76.52 KB)\n",
       "</pre>\n"
      ],
      "text/plain": [
       "\u001b[1m Total params: \u001b[0m\u001b[38;5;34m19,589\u001b[0m (76.52 KB)\n"
      ]
     },
     "metadata": {},
     "output_type": "display_data"
    },
    {
     "data": {
      "text/html": [
       "<pre style=\"white-space:pre;overflow-x:auto;line-height:normal;font-family:Menlo,'DejaVu Sans Mono',consolas,'Courier New',monospace\"><span style=\"font-weight: bold\"> Trainable params: </span><span style=\"color: #00af00; text-decoration-color: #00af00\">6,529</span> (25.50 KB)\n",
       "</pre>\n"
      ],
      "text/plain": [
       "\u001b[1m Trainable params: \u001b[0m\u001b[38;5;34m6,529\u001b[0m (25.50 KB)\n"
      ]
     },
     "metadata": {},
     "output_type": "display_data"
    },
    {
     "data": {
      "text/html": [
       "<pre style=\"white-space:pre;overflow-x:auto;line-height:normal;font-family:Menlo,'DejaVu Sans Mono',consolas,'Courier New',monospace\"><span style=\"font-weight: bold\"> Non-trainable params: </span><span style=\"color: #00af00; text-decoration-color: #00af00\">0</span> (0.00 B)\n",
       "</pre>\n"
      ],
      "text/plain": [
       "\u001b[1m Non-trainable params: \u001b[0m\u001b[38;5;34m0\u001b[0m (0.00 B)\n"
      ]
     },
     "metadata": {},
     "output_type": "display_data"
    },
    {
     "data": {
      "text/html": [
       "<pre style=\"white-space:pre;overflow-x:auto;line-height:normal;font-family:Menlo,'DejaVu Sans Mono',consolas,'Courier New',monospace\"><span style=\"font-weight: bold\"> Optimizer params: </span><span style=\"color: #00af00; text-decoration-color: #00af00\">13,060</span> (51.02 KB)\n",
       "</pre>\n"
      ],
      "text/plain": [
       "\u001b[1m Optimizer params: \u001b[0m\u001b[38;5;34m13,060\u001b[0m (51.02 KB)\n"
      ]
     },
     "metadata": {},
     "output_type": "display_data"
    }
   ],
   "source": [
    "classifier = Sequential()\n",
    "classifier.add(Dense(units= 32, activation='relu', input_dim=input_dim,kernel_regularizer=l2(0.001))) \n",
    "classifier.add(Dense(units= 64, activation='relu',kernel_regularizer=l2(0.001)))\n",
    "classifier.add(Dense(units= 32, activation='relu',kernel_regularizer=l2(0.001)))\n",
    "classifier.add(Dense(units=1, activation='sigmoid',kernel_regularizer=l2(0.001)))\n",
    "classifier.compile(optimizer=\"adam\", loss='binary_crossentropy', metrics=['accuracy', f1_m, precision_m, recall_m])\n",
    "\n",
    "history = classifier.fit(X_train_sc, y_train_resampled, epochs=25, batch_size=512, validation_split=0.15, verbose=1,\n",
    "                         callbacks=[keras.callbacks.EarlyStopping(monitor='val_loss', min_delta=0, patience=10, verbose=0, mode='auto')])\n",
    "classifier.summary()"
   ]
  },
  {
   "cell_type": "code",
   "execution_count": 67,
   "metadata": {},
   "outputs": [
    {
     "name": "stdout",
     "output_type": "stream",
     "text": [
      "\u001b[1m66209/66209\u001b[0m \u001b[32m━━━━━━━━━━━━━━━━━━━━\u001b[0m\u001b[37m\u001b[0m \u001b[1m76s\u001b[0m 1ms/step - accuracy: 0.9013 - f1_m: 0.3218 - loss: 0.3435 - precision_m: 0.4276 - recall_m: 0.2976\n",
      "loss:  0.3432748019695282 and Accuracy:  0.901398777961731\n"
     ]
    }
   ],
   "source": [
    "eval_model = classifier.evaluate(X_test_sc, y_test)\n",
    "print('loss: ', eval_model[0], 'and Accuracy: ', eval_model[1])\n"
   ]
  },
  {
   "cell_type": "code",
   "execution_count": 68,
   "metadata": {},
   "outputs": [
    {
     "name": "stdout",
     "output_type": "stream",
     "text": [
      "dict_keys(['accuracy', 'f1_m', 'loss', 'precision_m', 'recall_m', 'val_accuracy', 'val_f1_m', 'val_loss', 'val_precision_m', 'val_recall_m'])\n"
     ]
    }
   ],
   "source": [
    "print(history.history.keys())\n"
   ]
  },
  {
   "cell_type": "code",
   "execution_count": 71,
   "metadata": {},
   "outputs": [
    {
     "name": "stdout",
     "output_type": "stream",
     "text": [
      "\u001b[1m66209/66209\u001b[0m \u001b[32m━━━━━━━━━━━━━━━━━━━━\u001b[0m\u001b[37m\u001b[0m \u001b[1m68s\u001b[0m 1ms/step\n",
      "\n",
      " Classification report : \n",
      "               precision    recall  f1-score   support\n",
      "\n",
      "         0.0       0.93      0.97      0.95   1911460\n",
      "         1.0       0.49      0.31      0.38    207206\n",
      "\n",
      "    accuracy                           0.90   2118666\n",
      "   macro avg       0.71      0.64      0.66   2118666\n",
      "weighted avg       0.89      0.90      0.89   2118666\n",
      "\n",
      "Accuracy Score :  0.9013988047195736\n",
      "F1 Score:  0.8910647248067084\n",
      "Area under curve :  0.8102707206579426 \n",
      "\n"
     ]
    },
    {
     "data": {
      "image/png": "[encoded data removed]",
      "text/plain": [
       "<Figure size 1200x1200 with 3 Axes>"
      ]
     },
     "metadata": {},
     "output_type": "display_data"
    }
   ],
   "source": [
    "probabilities = classifier.predict(X_test_sc)\n",
    "predictions = (probabilities > 0.5).astype(int)  # Thresholding at 0.5\n",
    "\n",
    "print(\"\\n Classification report : \\n\", classification_report(y_test, predictions))\n",
    "print(\"Accuracy Score : \", accuracy_score(y_test, predictions))\n",
    "\n",
    "# Confusion matrix\n",
    "conf_matrix = confusion_matrix(y_test, predictions)\n",
    "plt.figure(figsize=(12, 12))\n",
    "plt.subplot(221)\n",
    "sns.heatmap(conf_matrix, fmt=\"d\", annot=True, cmap='Blues')\n",
    "b, t = plt.ylim()\n",
    "plt.ylim(b + 0.5, t - 0.5)\n",
    "plt.title('Confusion Matrix')\n",
    "plt.ylabel('True Values')\n",
    "plt.xlabel('Predicted Values')\n",
    "\n",
    "# F1-score\n",
    "f1 = f1_score(y_test, predictions, average='weighted')\n",
    "print(\"F1 Score: \", f1)\n",
    "# ROC curve and AUC\n",
    "model_roc_auc = roc_auc_score(y_test, probabilities)\n",
    "print(\"Area under curve : \", model_roc_auc, \"\\n\")\n",
    "fpr, tpr, thresholds = roc_curve(y_test, probabilities)\n",
    "gmeans = np.sqrt(tpr * (1 - fpr))\n",
    "ix = np.argmax(gmeans)\n",
    "threshold = np.round(thresholds[ix], 3)\n",
    "\n",
    "plt.subplot(222)\n",
    "plt.plot(fpr, tpr, color='darkorange', lw=1, label=\"Auc : %.3f\" % model_roc_auc)\n",
    "plt.plot([0, 1], [0, 1], color='navy', lw=2, linestyle='--')\n",
    "plt.scatter(fpr[ix], tpr[ix], marker='o', color='black', label='Best Threshold:' + str(threshold))\n",
    "plt.xlim([0.0, 1.0])\n",
    "plt.ylim([0.0, 1.05])\n",
    "plt.xlabel('False Positive Rate')\n",
    "plt.ylabel('True Positive Rate')\n",
    "plt.title('Receiver operating characteristic')\n",
    "plt.legend(loc=\"lower right\")\n",
    "\n",
    "plt.show()"
   ]
  },
  {
   "cell_type": "code",
   "execution_count": 17,
   "metadata": {},
   "outputs": [
    {
     "data": {
      "image/png": "[encoded data removed]",
      "text/plain": [
       "<Figure size 640x480 with 1 Axes>"
      ]
     },
     "metadata": {},
     "output_type": "display_data"
    }
   ],
   "source": [
    "# Plotting the graph\n",
    "plt.plot(epochs, training_accuracy, label='Training Accuracy')\n",
    "plt.plot(epochs, validation_accuracy, label='Validation Accuracy')\n",
    "\n",
    "# Adding titles and labels\n",
    "plt.title('Training and Validation Accuracy')\n",
    "plt.xlabel('Epochs')\n",
    "plt.ylabel('Accuracy')\n",
    "plt.legend()\n",
    "\n",
    "# Display the plot\n",
    "plt.show()\n"
   ]
  },
  {
   "cell_type": "code",
   "execution_count": 1,
   "metadata": {},
   "outputs": [
    {
     "name": "stdout",
     "output_type": "stream",
     "text": [
      "Memory usage of properties dataframe is : 4542.121519088745  MB\n",
      "___MEMORY USAGE AFTER COMPLETION:___\n",
      "Memory usage is:  1244.6383724212646  MB\n",
      "This is  27.402137243368337 % of the initial size\n"
     ]
    },
    {
     "name": "stderr",
     "output_type": "stream",
     "text": [
      "C:\\Python312\\Lib\\site-packages\\keras\\src\\layers\\core\\dense.py:85: UserWarning: Do not pass an `input_shape`/`input_dim` argument to a layer. When using Sequential models, prefer using an `Input(shape)` object as the first layer in the model instead.\n",
      "  super().__init__(activity_regularizer=activity_regularizer, **kwargs)\n"
     ]
    },
    {
     "name": "stdout",
     "output_type": "stream",
     "text": [
      "Epoch 1/25\n",
      "\u001b[1m15232/15232\u001b[0m \u001b[32m━━━━━━━━━━━━━━━━━━━━\u001b[0m\u001b[37m\u001b[0m \u001b[1m65s\u001b[0m 4ms/step - accuracy: 0.8234 - f1_m: 0.7602 - loss: 0.4379 - precision_m: 0.8486 - recall_m: 0.6944 - val_accuracy: 0.7609 - val_f1_m: 0.8641 - val_loss: 0.4558 - val_precision_m: 1.0000 - val_recall_m: 0.7609\n",
      "Epoch 2/25\n",
      "\u001b[1m15232/15232\u001b[0m \u001b[32m━━━━━━━━━━━━━━━━━━━━\u001b[0m\u001b[37m\u001b[0m \u001b[1m36s\u001b[0m 2ms/step - accuracy: 0.8482 - f1_m: 0.7986 - loss: 0.3840 - precision_m: 0.8794 - recall_m: 0.7340 - val_accuracy: 0.8176 - val_f1_m: 0.8996 - val_loss: 0.3585 - val_precision_m: 1.0000 - val_recall_m: 0.8176\n",
      "Epoch 3/25\n",
      "\u001b[1m15232/15232\u001b[0m \u001b[32m━━━━━━━━━━━━━━━━━━━━\u001b[0m\u001b[37m\u001b[0m \u001b[1m35s\u001b[0m 2ms/step - accuracy: 0.8518 - f1_m: 0.8035 - loss: 0.3786 - precision_m: 0.8835 - recall_m: 0.7391 - val_accuracy: 0.8108 - val_f1_m: 0.8954 - val_loss: 0.3809 - val_precision_m: 1.0000 - val_recall_m: 0.8108\n",
      "Epoch 4/25\n",
      "\u001b[1m15232/15232\u001b[0m \u001b[32m━━━━━━━━━━━━━━━━━━━━\u001b[0m\u001b[37m\u001b[0m \u001b[1m35s\u001b[0m 2ms/step - accuracy: 0.8551 - f1_m: 0.8077 - loss: 0.3759 - precision_m: 0.8892 - recall_m: 0.7425 - val_accuracy: 0.7922 - val_f1_m: 0.8840 - val_loss: 0.4285 - val_precision_m: 1.0000 - val_recall_m: 0.7922\n",
      "Epoch 5/25\n",
      "\u001b[1m15232/15232\u001b[0m \u001b[32m━━━━━━━━━━━━━━━━━━━━\u001b[0m\u001b[37m\u001b[0m \u001b[1m36s\u001b[0m 2ms/step - accuracy: 0.8587 - f1_m: 0.8127 - loss: 0.3736 - precision_m: 0.8940 - recall_m: 0.7476 - val_accuracy: 0.8673 - val_f1_m: 0.9289 - val_loss: 0.3133 - val_precision_m: 1.0000 - val_recall_m: 0.8673\n",
      "Epoch 6/25\n",
      "\u001b[1m15232/15232\u001b[0m \u001b[32m━━━━━━━━━━━━━━━━━━━━\u001b[0m\u001b[37m\u001b[0m \u001b[1m36s\u001b[0m 2ms/step - accuracy: 0.8618 - f1_m: 0.8169 - loss: 0.3720 - precision_m: 0.8973 - recall_m: 0.7523 - val_accuracy: 0.7486 - val_f1_m: 0.8561 - val_loss: 0.5545 - val_precision_m: 1.0000 - val_recall_m: 0.7486\n",
      "Epoch 7/25\n",
      "\u001b[1m15232/15232\u001b[0m \u001b[32m━━━━━━━━━━━━━━━━━━━━\u001b[0m\u001b[37m\u001b[0m \u001b[1m36s\u001b[0m 2ms/step - accuracy: 0.8637 - f1_m: 0.8196 - loss: 0.3712 - precision_m: 0.8994 - recall_m: 0.7554 - val_accuracy: 0.7584 - val_f1_m: 0.8625 - val_loss: 0.4553 - val_precision_m: 1.0000 - val_recall_m: 0.7584\n",
      "Epoch 8/25\n",
      "\u001b[1m15232/15232\u001b[0m \u001b[32m━━━━━━━━━━━━━━━━━━━━\u001b[0m\u001b[37m\u001b[0m \u001b[1m37s\u001b[0m 2ms/step - accuracy: 0.8662 - f1_m: 0.8231 - loss: 0.3700 - precision_m: 0.9016 - recall_m: 0.7597 - val_accuracy: 0.8107 - val_f1_m: 0.8953 - val_loss: 0.4034 - val_precision_m: 1.0000 - val_recall_m: 0.8107\n",
      "Epoch 9/25\n",
      "\u001b[1m15232/15232\u001b[0m \u001b[32m━━━━━━━━━━━━━━━━━━━━\u001b[0m\u001b[37m\u001b[0m \u001b[1m38s\u001b[0m 2ms/step - accuracy: 0.8687 - f1_m: 0.8266 - loss: 0.3692 - precision_m: 0.9042 - recall_m: 0.7638 - val_accuracy: 0.7861 - val_f1_m: 0.8801 - val_loss: 0.4287 - val_precision_m: 1.0000 - val_recall_m: 0.7861\n",
      "Epoch 10/25\n",
      "\u001b[1m15232/15232\u001b[0m \u001b[32m━━━━━━━━━━━━━━━━━━━━\u001b[0m\u001b[37m\u001b[0m \u001b[1m39s\u001b[0m 3ms/step - accuracy: 0.8704 - f1_m: 0.8293 - loss: 0.3684 - precision_m: 0.9048 - recall_m: 0.7681 - val_accuracy: 0.7926 - val_f1_m: 0.8842 - val_loss: 0.4292 - val_precision_m: 1.0000 - val_recall_m: 0.7926\n",
      "Epoch 11/25\n",
      "\u001b[1m15232/15232\u001b[0m \u001b[32m━━━━━━━━━━━━━━━━━━━━\u001b[0m\u001b[37m\u001b[0m \u001b[1m37s\u001b[0m 2ms/step - accuracy: 0.8730 - f1_m: 0.8327 - loss: 0.3670 - precision_m: 0.9078 - recall_m: 0.7716 - val_accuracy: 0.8489 - val_f1_m: 0.9182 - val_loss: 0.3486 - val_precision_m: 1.0000 - val_recall_m: 0.8489\n",
      "Epoch 12/25\n",
      "\u001b[1m15232/15232\u001b[0m \u001b[32m━━━━━━━━━━━━━━━━━━━━\u001b[0m\u001b[37m\u001b[0m \u001b[1m39s\u001b[0m 3ms/step - accuracy: 0.8742 - f1_m: 0.8346 - loss: 0.3666 - precision_m: 0.9088 - recall_m: 0.7742 - val_accuracy: 0.8708 - val_f1_m: 0.9309 - val_loss: 0.3223 - val_precision_m: 1.0000 - val_recall_m: 0.8708\n",
      "Epoch 13/25\n",
      "\u001b[1m15232/15232\u001b[0m \u001b[32m━━━━━━━━━━━━━━━━━━━━\u001b[0m\u001b[37m\u001b[0m \u001b[1m39s\u001b[0m 3ms/step - accuracy: 0.8755 - f1_m: 0.8362 - loss: 0.3660 - precision_m: 0.9097 - recall_m: 0.7762 - val_accuracy: 0.8496 - val_f1_m: 0.9186 - val_loss: 0.3604 - val_precision_m: 1.0000 - val_recall_m: 0.8496\n",
      "Epoch 14/25\n",
      "\u001b[1m15232/15232\u001b[0m \u001b[32m━━━━━━━━━━━━━━━━━━━━\u001b[0m\u001b[37m\u001b[0m \u001b[1m36s\u001b[0m 2ms/step - accuracy: 0.8767 - f1_m: 0.8380 - loss: 0.3658 - precision_m: 0.9109 - recall_m: 0.7784 - val_accuracy: 0.8114 - val_f1_m: 0.8958 - val_loss: 0.4196 - val_precision_m: 1.0000 - val_recall_m: 0.8114\n",
      "Epoch 15/25\n",
      "\u001b[1m15232/15232\u001b[0m \u001b[32m━━━━━━━━━━━━━━━━━━━━\u001b[0m\u001b[37m\u001b[0m \u001b[1m37s\u001b[0m 2ms/step - accuracy: 0.8779 - f1_m: 0.8396 - loss: 0.3656 - precision_m: 0.9118 - recall_m: 0.7804 - val_accuracy: 0.8811 - val_f1_m: 0.9368 - val_loss: 0.3194 - val_precision_m: 1.0000 - val_recall_m: 0.8811\n",
      "\u001b[1m66209/66209\u001b[0m \u001b[32m━━━━━━━━━━━━━━━━━━━━\u001b[0m\u001b[37m\u001b[0m \u001b[1m96s\u001b[0m 1ms/step - accuracy: 0.8850 - f1_m: 0.3524 - loss: 0.3866 - precision_m: 0.3905 - recall_m: 0.3789\n",
      "loss:  0.3869427740573883 and Accuracy:  0.8848492503166199\n",
      "\u001b[1m66209/66209\u001b[0m \u001b[32m━━━━━━━━━━━━━━━━━━━━\u001b[0m\u001b[37m\u001b[0m \u001b[1m61s\u001b[0m 925us/step\n",
      "\n",
      " Classification report : \n",
      "               precision    recall  f1-score   support\n",
      "\n",
      "         0.0       0.93      0.94      0.94   1911460\n",
      "         1.0       0.41      0.39      0.40    207206\n",
      "\n",
      "    accuracy                           0.88   2118666\n",
      "   macro avg       0.67      0.67      0.67   2118666\n",
      "weighted avg       0.88      0.88      0.88   2118666\n",
      "\n",
      "Accuracy Score :  0.8848492400406671\n",
      "Area under curve :  0.8074738056808615 \n",
      "\n"
     ]
    },
    {
     "data": {
      "image/png": "[encoded data removed]",
      "text/plain": [
       "<Figure size 1200x1200 with 3 Axes>"
      ]
     },
     "metadata": {},
     "output_type": "display_data"
    }
   ],
   "source": [
    "import numpy as np\n",
    "import pandas as pd\n",
    "import matplotlib.pyplot as plt\n",
    "import seaborn as sns\n",
    "import gc\n",
    "from sklearn.preprocessing import MinMaxScaler\n",
    "from sklearn.model_selection import train_test_split\n",
    "from sklearn.metrics import confusion_matrix, accuracy_score, classification_report\n",
    "from sklearn.metrics import roc_auc_score, roc_curve, f1_score\n",
    "from imblearn.over_sampling import SMOTE\n",
    "from keras.models import Sequential\n",
    "from keras.layers import Dense\n",
    "from keras.regularizers import l2\n",
    "import tensorflow.keras.backend as K\n",
    "import keras.callbacks as callbacks\n",
    "\n",
    "# Suppress chained assignment warnings\n",
    "pd.options.mode.chained_assignment = None\n",
    "\n",
    "# Load dataset\n",
    "root = './Datasets/'\n",
    "df = pd.read_pickle(root + 'Finaldata.pkl')\n",
    "\n",
    "# Memory reduction function\n",
    "def reduce_memory(df):\n",
    "    start_mem_usg = df.memory_usage().sum() / 1024**2 \n",
    "    print(\"Memory usage of properties dataframe is :\",start_mem_usg,\" MB\")\n",
    "    \n",
    "    for col in df.columns:\n",
    "        if df[col].dtypes in [\"int64\", \"int32\", \"int16\"]:\n",
    "            cmin = df[col].min()\n",
    "            cmax = df[col].max()\n",
    "            if cmin > np.iinfo(np.int8).min and cmax < np.iinfo(np.int8).max:\n",
    "                df[col] = df[col].astype(np.int8)\n",
    "            elif cmin > np.iinfo(np.int16).min and cmax < np.iinfo(np.int16).max:\n",
    "                df[col] = df[col].astype(np.int16)\n",
    "            elif cmin > np.iinfo(np.int32).min and cmax < np.iinfo(np.int32).max:\n",
    "                df[col] = df[col].astype(np.int32)\n",
    "        \n",
    "        if df[col].dtypes in [\"float64\", \"float32\"]:\n",
    "            cmin = df[col].min()\n",
    "            cmax = df[col].max()\n",
    "            if cmin > np.finfo(np.float16).min and cmax < np.finfo(np.float16).max:\n",
    "                df[col] = df[col].astype(np.float16)\n",
    "            elif cmin > np.finfo(np.float32).min and cmax < np.finfo(np.float32).max:\n",
    "                df[col] = df[col].astype(np.float32)\n",
    "    \n",
    "    print(\"___MEMORY USAGE AFTER COMPLETION:___\")\n",
    "    mem_usg = df.memory_usage().sum() / 1024**2 \n",
    "    print(\"Memory usage is: \", mem_usg,\" MB\")\n",
    "    print(\"This is \", 100*mem_usg/start_mem_usg,\"% of the initial size\")\n",
    "    \n",
    "    return df\n",
    "\n",
    "df = reduce_memory(df)\n",
    "\n",
    "# Data preprocessing\n",
    "df['order_diff'] = df.order_number - df.last_ordered_in\n",
    "df.drop(['user_id', 'product_id'], axis=1, inplace=True)\n",
    "\n",
    "label = 'reordered'\n",
    "x_cols = df.columns.drop('reordered')\n",
    "X = df[x_cols]\n",
    "y = df[label]\n",
    "\n",
    "# Split the data into training and test sets\n",
    "X_train, X_test, y_train, y_test = train_test_split(X, y, stratify=y, test_size=0.25, random_state=42)\n",
    "X_train_final, X_val, y_train_final, y_val = train_test_split(X_train, y_train, stratify=y_train, test_size=0.2, random_state=42)\n",
    "\n",
    "# Handling class imbalance using SMOTE\n",
    "smote = SMOTE(random_state=42)\n",
    "X_train_resampled, y_train_resampled = smote.fit_resample(X_train_final, y_train_final)\n",
    "\n",
    "# Scaling\n",
    "sc = MinMaxScaler()\n",
    "X_train_sc = sc.fit_transform(X_train_resampled)\n",
    "X_val_sc = sc.transform(X_val)\n",
    "X_test_sc = sc.transform(X_test)\n",
    "\n",
    "# Free memory\n",
    "del df, X, y\n",
    "gc.collect()\n",
    "\n",
    "# Define the Neural Network\n",
    "def precision_m(y_true, y_pred):\n",
    "    true_positives = K.sum(K.round(K.clip(y_true * y_pred, 0, 1)))\n",
    "    predicted_positives = K.sum(K.round(K.clip(y_pred, 0, 1)))\n",
    "    precision = true_positives / (predicted_positives + K.epsilon())\n",
    "    return precision\n",
    "\n",
    "def recall_m(y_true, y_pred):\n",
    "    true_positives = K.sum(K.round(K.clip(y_true * y_pred, 0, 1)))\n",
    "    possible_positives = K.sum(K.round(K.clip(y_true, 0, 1)))\n",
    "    recall = true_positives / (possible_positives + K.epsilon())\n",
    "    return recall\n",
    "\n",
    "def f1_m(y_true, y_pred):\n",
    "    precision = precision_m(y_true, y_pred)\n",
    "    recall = recall_m(y_true, y_pred)\n",
    "    return 2 * ((precision * recall) / (precision + recall + K.epsilon()))\n",
    "\n",
    "# Build the model\n",
    "classifier = Sequential()\n",
    "input_dim = X_train_sc.shape[1]  # Define input dimension based on your dataset\n",
    "classifier.add(Dense(units=32, activation='relu', input_dim=input_dim, kernel_regularizer=l2(0.001)))\n",
    "classifier.add(Dense(units=64, activation='relu', kernel_regularizer=l2(0.001)))\n",
    "classifier.add(Dense(units=32, activation='relu', kernel_regularizer=l2(0.001)))\n",
    "classifier.add(Dense(units=1, activation='sigmoid', kernel_regularizer=l2(0.001)))\n",
    "classifier.compile(optimizer=\"adam\", loss='binary_crossentropy', metrics=['accuracy', f1_m, precision_m, recall_m])\n",
    "\n",
    "# Train the model\n",
    "history = classifier.fit(X_train_sc, y_train_resampled, epochs=25, batch_size=512, validation_split=0.15, verbose=1,\n",
    "                         callbacks=[callbacks.EarlyStopping(monitor='val_loss', patience=10)])\n",
    "\n",
    "# Evaluate the model\n",
    "eval_model = classifier.evaluate(X_test_sc, y_test)\n",
    "print('loss: ', eval_model[0], 'and Accuracy: ', eval_model[1])\n",
    "\n",
    "# Predictions\n",
    "probabilities = classifier.predict(X_test_sc)\n",
    "predictions = (probabilities > 0.5).astype(int)\n",
    "\n",
    "# Classification report\n",
    "print(\"\\n Classification report : \\n\", classification_report(y_test, predictions))\n",
    "print(\"Accuracy Score : \", accuracy_score(y_test, predictions))\n",
    "\n",
    "# Storing the confusion matrix in a disguised variable\n",
    "matrix_disguised = confusion_matrix(y_test, predictions)\n",
    "\n",
    "# Display the confusion matrix\n",
    "plt.figure(figsize=(12, 12))\n",
    "sns.heatmap(matrix_disguised, fmt=\"d\", annot=True, cmap='Blues')\n",
    "b, t = plt.ylim()\n",
    "plt.ylim(b + 0.5, t - 0.5)\n",
    "plt.title('Confusion Matrix')\n",
    "plt.ylabel('True Values')\n",
    "plt.xlabel('Predicted Values')\n",
    "\n",
    "# ROC curve and AUC\n",
    "model_roc_auc = roc_auc_score(y_test, probabilities)\n",
    "print(\"Area under curve : \", model_roc_auc, \"\\n\")\n",
    "fpr, tpr, thresholds = roc_curve(y_test, probabilities)\n",
    "gmeans = np.sqrt(tpr * (1 - fpr))\n",
    "ix = np.argmax(gmeans)\n",
    "threshold = np.round(thresholds[ix], 3)\n",
    "\n",
    "plt.subplot(222)\n",
    "plt.plot(fpr, tpr, color='darkorange', lw=1, label=\"Auc : %.3f\" % model_roc_auc)\n",
    "plt.plot([0, 1], [0, 1], color='navy', lw=2, linestyle='--')\n",
    "plt.scatter(fpr[ix], tpr[ix], marker='o', color='black', label='Best Threshold:' + str(threshold))\n",
    "plt.xlim([0.0, 1.0])\n",
    "plt.ylim([0.0, 1.05])\n",
    "plt.xlabel('False Positive Rate')\n",
    "plt.ylabel('True Positive Rate')\n",
    "plt.title('Receiver operating characteristic')\n",
    "plt.legend(loc=\"lower right\")\n",
    "plt.show()\n",
    "\n",
    "\n"
   ]
  },
  {
   "cell_type": "code",
   "execution_count": 8,
   "metadata": {},
   "outputs": [
    {
     "name": "stdout",
     "output_type": "stream",
     "text": [
      "Area under curve :  0.8074738056808615 \n",
      "\n"
     ]
    },
    {
     "data": {
      "image/png": "[encoded data removed]",
      "text/plain": [
       "<Figure size 1200x1200 with 3 Axes>"
      ]
     },
     "metadata": {},
     "output_type": "display_data"
    }
   ],
   "source": [
    "# Storing the confusion matrix in a disguised variable\n",
    "matrix_disguised = confusion_matrix(y_test, predictions)\n",
    "\n",
    "# Display the confusion matrix\n",
    "plt.figure(figsize=(12, 12))\n",
    "plt.subplot(221)\n",
    "sns.heatmap(matrix_disguised, fmt=\"d\", annot=True, cmap='Blues')\n",
    "b, t = plt.ylim()\n",
    "plt.ylim(b + 0.5, t - 0.5)\n",
    "plt.title('Confusion Matrix')\n",
    "plt.ylabel('True Values')\n",
    "plt.xlabel('Predicted Values')\n",
    "\n",
    "# ROC curve and AUC\n",
    "model_roc_auc = roc_auc_score(y_test, probabilities)\n",
    "print(\"Area under curve : \", model_roc_auc, \"\\n\")\n",
    "fpr, tpr, thresholds = roc_curve(y_test, probabilities)\n",
    "gmeans = np.sqrt(tpr * (1 - fpr))\n",
    "ix = np.argmax(gmeans)\n",
    "threshold = np.round(thresholds[ix], 3)\n",
    "\n",
    "plt.subplot(222)\n",
    "plt.plot(fpr, tpr, color='darkorange', lw=1, label=\"Auc : %.3f\" % model_roc_auc)\n",
    "plt.plot([0, 1], [0, 1], color='navy', lw=2, linestyle='--')\n",
    "plt.scatter(fpr[ix], tpr[ix], marker='o', color='black', label='Best Threshold:' + str(threshold))\n",
    "plt.xlim([0.0, 1.0])\n",
    "plt.ylim([0.0, 1.05])\n",
    "plt.xlabel('False Positive Rate')\n",
    "plt.ylabel('True Positive Rate')\n",
    "plt.title('Receiver operating characteristic')\n",
    "plt.legend(loc=\"lower right\")\n",
    "plt.show()\n"
   ]
  },
  {
   "cell_type": "code",
   "execution_count": null,
   "metadata": {},
   "outputs": [],
   "source": []
  }
 ],
 "metadata": {
  "kernelspec": {
   "display_name": "Python 3 (ipykernel)",
   "language": "python",
   "name": "python3"
  },
  "language_info": {
   "codemirror_mode": {
    "name": "ipython",
    "version": 3
   },
   "file_extension": ".py",
   "mimetype": "text/x-python",
   "name": "python",
   "nbconvert_exporter": "python",
   "pygments_lexer": "ipython3",
   "version": "3.12.0"
  }
 },
 "nbformat": 4,
 "nbformat_minor": 4
}
